{
 "cells": [
  {
   "cell_type": "markdown",
   "metadata": {
    "pycharm": {
     "name": "#%% md\n"
    }
   },
   "source": [
    "# SRGAN: 图像超分算法\n",
    "\n",
    "单张图像超分辨率技术（SISR，Single image super-resolution），指给定单张低分辨率图像，利用相关技术实现到高分辨图像的重建。常见方法有基于插值的、基于重构的和基于学习的方法。\n",
    "\n",
    "[SRGAN](https://arxiv.org/abs/1609.04802/)算法基于生成对抗网络，通过引入一个描述感知相似性（Perceptual Similarity）的感知损失函数（Preceptual Loss Function），可以在较高的上采样率下，较好的实现对高频细节（如纹理）的重建。\n",
    "\n",
    "## 模型简介\n",
    "\n",
    "SRGAN的生成网络采用SRResNet网络，该网络基于残差块构建，其中引入了一个横跨主干网络的跳跃链接（Skip Connection）以解决训练过程中梯度的爆炸和消失问题。其判别网络含8个卷积层，结构与VGG网络相似。损失函数基于VGG网络特征图构造，相比基于像素间差异构造的损失函数，训练结果更为真实。\n",
    "\n",
    "论文[1]中针对SRGAN与主流图像超分算法做了对比实验，评价指标如下：\n",
    "\n",
    "1. 峰值信噪比（PSNR, Peak Signal to Noise Ratio）\n",
    "\n",
    "> PSNR描述两个图像在每一个位置上的像素值的差异的平均值。\n",
    "\n",
    "2. 结构相似性(SSIM, Structural Similarity)\n",
    "\n",
    "> SSIM描述两个图像之间的相似性，通过关注边缘和纹理相似性来模仿人类感知。\n",
    "\n",
    "3. 平均主观意见分(MOS, Mean Opinion Score)\n",
    "\n",
    "> MOS描述人们对超分图像的主观评价。\n",
    "\n",
    "### 模型性能\n",
    "\n",
    "将SRGAN与多种主流方法在Set5数据集、Set14数据集和BSD100数据集上进行比较，结果见下图。\n",
    "\n",
    "![show_images](./images/score.png)\n",
    "\n",
    "## 预训练模型\n",
    "\n",
    "在计算感知损失时，SRGAN使用了VGG19来提取高级特征，本案例用到的VGG19预训练模型可以在[这里](https://download.mindspore.cn/model_zoo/converted_pretrained/vgg/)下载，下载后请将其保存至根目录下。\n",
    "\n",
    "## 数据处理\n",
    "\n",
    "开始实验之前，请确保本地已经安装了Python环境以及MindSpore Vision套件。\n",
    "\n",
    "### 数据准备\n",
    "\n",
    "本案例使用[DIV2K](https://data.vision.ee.ethz.ch/cvl/DIV2K/)数据集作为训练集，请在[这里](https://data.vision.ee.ethz.ch/cvl/DIV2K/)下载Train Data (HR images)和Train Data Track 1 bicubic downscaling x4 (LR images)两个文件。\n",
    "\n",
    "本案例分别使用[Set5和Set14](http://eprints.imtlucca.it/2412/1/Bevilacqua_2012.pdf)数据集作为验证集和测试集，请在[这里](https://github.com/jbhuang0604/SelfExSR)下载。\n",
    "\n",
    "其中训练集共计800组数据，验证集共计5组数据，测试集共计14组数据。每组数据包含两张图像： 高分辨率图像(HR)和低分辨率图像(LR)。部分数据集图像如下：\n",
    "\n",
    "![show_images](./images/DIV2K.jpg)\n",
    "\n",
    "请将解压后的数据集按如下方式放至'./datasets'下：\n",
    "\n",
    "```text\n",
    "\n",
    ".datasets/\n",
    "    └── DIV2K\n",
    "    |    ├── HR\n",
    "    |    └── LR\n",
    "    └── Set5\n",
    "    |    ├── HR\n",
    "    |    └── LR\n",
    "    └── Set14\n",
    "         ├── HR\n",
    "         └── LR\n",
    "```"
   ]
  },
  {
   "cell_type": "markdown",
   "metadata": {
    "pycharm": {
     "name": "#%% md\n"
    }
   },
   "source": [
    "### 数据增强\n",
    "\n",
    "DIV2K数据集有800组数据，数据量较少。因此需要使用旋转、水平翻转和垂直翻转操作对训练数据进行数据增强，具体方式如下:\n",
    "\n",
    "1. 将每组数据中的LR图像随机裁剪至24x24分辨率, 相应的HR图像裁剪至96x96分辨率。\n",
    "\n",
    "2. 每组数据分别以0.5，0.5，0.5的概率旋转90度、水平翻转和垂直翻转。"
   ]
  },
  {
   "cell_type": "code",
   "execution_count": 1,
   "metadata": {
    "pycharm": {
     "name": "#%%\n"
    }
   },
   "outputs": [],
   "source": [
    "import os\n",
    "import random\n",
    "import numpy as np\n",
    "from PIL import Image\n",
    "\n",
    "# 创建dataset\n",
    "class TrainDataset:\n",
    "    \"\"\"\n",
    "    Read the training data file in the specified format.\n",
    "\n",
    "    Args:\n",
    "        lr_path (str): The path of low-resolution image.\n",
    "        gt_path (str): The path of high-resolution image.\n",
    "        in_memory (bool): Choose whether to load the entire dataset into memory. Default: True.\n",
    "    \"\"\"\n",
    "    def __init__(self, lr_path, gt_path, in_memory=True):\n",
    "        \"\"\"init\"\"\"\n",
    "        self.lr_path = lr_path\n",
    "        self.gt_path = gt_path\n",
    "        self.in_memory = in_memory\n",
    "        self.lr_img = sorted(os.listdir(lr_path))\n",
    "        self.gt_img = sorted(os.listdir(gt_path))\n",
    "        if in_memory:\n",
    "            self.lr_img = [np.array(Image.open(os.path.join(self.lr_path, lr)).convert(\"RGB\")).astype(np.float32)\n",
    "                           for lr in self.lr_img]\n",
    "            self.gt_img = [np.array(Image.open(os.path.join(self.gt_path, hr)).convert(\"RGB\")).astype(np.float32)\n",
    "                           for hr in self.gt_img]\n",
    "\n",
    "    def __len__(self):\n",
    "        \"\"\"getlength\"\"\"\n",
    "        return len(self.lr_img)\n",
    "\n",
    "    def __getitem__(self, i):\n",
    "        \"\"\"getitem\"\"\"\n",
    "        img_item = {}\n",
    "        if self.in_memory:\n",
    "            gt = self.gt_img[i].astype(np.float32)\n",
    "            lr = self.lr_img[i].astype(np.float32)\n",
    "\n",
    "        else:\n",
    "            gt = np.array(Image.open(os.path.join(self.gt_path, self.gt_img[i])).convert(\"RGB\"))\n",
    "            lr = np.array(Image.open(os.path.join(self.lr_path, self.lr_img[i])).convert(\"RGB\"))\n",
    "        img_item['GT'] = (gt / 127.5) - 1.0\n",
    "        img_item['LR'] = (lr / 127.5) - 1.0\n",
    "        # crop\n",
    "        ih, iw = img_item['LR'].shape[:2]\n",
    "        ix = random.randrange(0, iw -24 + 1)\n",
    "        iy = random.randrange(0, ih -24 + 1)\n",
    "        tx = ix * 4\n",
    "        ty = iy * 4\n",
    "        img_item['LR'] = img_item['LR'][iy : iy + 24, ix : ix + 24]\n",
    "        img_item['GT'] = img_item['GT'][ty : ty + (4 * 24), tx : tx + (4 * 24)]\n",
    "        # augmentation\n",
    "        hor_flip = random.randrange(0, 2)\n",
    "        ver_flip = random.randrange(0, 2)\n",
    "        rot = random.randrange(0, 2)\n",
    "        if hor_flip:\n",
    "            temp_lr = np.fliplr(img_item['LR'])\n",
    "            img_item['LR'] = temp_lr.copy()\n",
    "            temp_gt = np.fliplr(img_item['GT'])\n",
    "            img_item['GT'] = temp_gt.copy()\n",
    "            del temp_lr, temp_gt\n",
    "\n",
    "        if ver_flip:\n",
    "            temp_lr = np.flipud(img_item['LR'])\n",
    "            img_item['LR'] = temp_lr.copy()\n",
    "            temp_gt = np.flipud(img_item['GT'])\n",
    "            img_item['GT'] = temp_gt.copy()\n",
    "            del temp_lr, temp_gt\n",
    "\n",
    "        if rot:\n",
    "            img_item['LR'] = img_item['LR'].transpose(1, 0, 2)\n",
    "            img_item['GT'] = img_item['GT'].transpose(1, 0, 2)\n",
    "\n",
    "        img_item['GT'] = img_item['GT'].transpose(2, 0, 1).astype(np.float32)\n",
    "        img_item['LR'] = img_item['LR'].transpose(2, 0, 1).astype(np.float32)\n",
    "        return  img_item['LR'], img_item['GT']"
   ]
  },
  {
   "cell_type": "markdown",
   "metadata": {
    "pycharm": {
     "name": "#%% md\n"
    }
   },
   "source": [
    "### 数据加载\n",
    "\n",
    "通过数据集加载接口加载数据集，并转换为Tensor以备输入模型。"
   ]
  },
  {
   "cell_type": "code",
   "execution_count": 2,
   "metadata": {
    "pycharm": {
     "name": "#%%\n"
    }
   },
   "outputs": [],
   "source": [
    "from src.dataset.create_loader import create_train_dataloader, create_test_dataloader\n",
    "\n",
    "# 训练集路径\n",
    "train_lr_path = './datasets/DIV2K/LR/'\n",
    "train_hr_path = './datasets/DIV2K/HR/'\n",
    "\n",
    "# 验证集路径\n",
    "val_lr_path = './datasets/Set5/LR/'\n",
    "val_gt_path = './datasets/Set5/HR/'\n",
    "\n",
    "# 生成dataset\n",
    "train_ds = create_train_dataloader(batchsize=3, lr_path=train_lr_path, gt_path=train_hr_path, \\\n",
    "    rank_id=0, device_num=2)\n",
    "val_ds = create_test_dataloader(batchsize=1, lr_path=val_lr_path, gt_path=val_gt_path)\n",
    "\n",
    "# 生成dataloader\n",
    "train_data_loader = train_ds.create_dict_iterator()\n",
    "val_data_loader = val_ds.create_dict_iterator()"
   ]
  },
  {
   "cell_type": "markdown",
   "metadata": {
    "pycharm": {
     "name": "#%% md\n"
    }
   },
   "source": [
    "### 训练样本可视化\n",
    "\n",
    "运行以下代码观察经裁剪、数据增强后的训练图片。可以发现图片经过了裁剪、数据增强和归一化处理，并且图片的shape也已经转换为待输入网络的（N，C，H，W）格式，其中N代表样本数量，C代表图片通道，H和W代表图片的高和宽。"
   ]
  },
  {
   "cell_type": "code",
   "execution_count": 3,
   "metadata": {},
   "outputs": [
    {
     "name": "stdout",
     "output_type": "stream",
     "text": [
      "Batch shape: (3, 3, 96, 96)\n"
     ]
    },
    {
     "data": {
      "image/png": "[encoded data removed]",
      "text/plain": [
       "<Figure size 432x288 with 3 Axes>"
      ]
     },
     "metadata": {
      "needs_background": "light"
     },
     "output_type": "display_data"
    }
   ],
   "source": [
    "import matplotlib.pyplot as plt\n",
    "\n",
    "train_sample = next(train_data_loader)\n",
    "train_sample = train_sample['HR'].asnumpy()\n",
    "print(f'Batch shape: {train_sample.shape}')\n",
    "\n",
    "plt.figure()\n",
    "\n",
    "# 展示图片供参考\n",
    "for i in range(1, 4):\n",
    "    plt.subplot(1, 3, i)\n",
    "\n",
    "    # 将图片转换HWC格式\n",
    "    image_trans = np.transpose(train_sample[i - 1], (2, 1, 0))\n",
    "\n",
    "    plt.imshow((image_trans * 255).astype(np.uint8))\n",
    "    plt.axis(\"off\")"
   ]
  },
  {
   "cell_type": "markdown",
   "metadata": {
    "pycharm": {
     "name": "#%% md\n"
    }
   },
   "source": [
    "## 网络结构\n",
    "\n",
    "SRGAN通过生成对抗的方式训练SRResNet，通过引入VGG损失，使其生成的超分辨率图像更加自然，有更好的视觉效果。\n",
    "\n",
    "### 生成器\n",
    "\n",
    "SRResNet网络的结构如下：\n",
    "\n",
    "![network](./images/generator.jpg)\n",
    "\n",
    "图中k为卷积核尺寸，n为输出通道数，s为步长。B个残差块后接了两个上采样块，上采样块中的PixelShuffler x2将输入特征图的长宽扩大一倍，最终实现四倍的上采样。"
   ]
  },
  {
   "cell_type": "code",
   "execution_count": 4,
   "metadata": {
    "pycharm": {
     "name": "#%%\n"
    }
   },
   "outputs": [],
   "source": [
    "import math\n",
    "import mindspore.nn as nn\n",
    "import mindspore.ops as ops\n",
    "\n",
    "class ResidualBlock(nn.Cell):\n",
    "    \"\"\"\n",
    "    Structure of ResidualBlock.\n",
    "\n",
    "    Args:\n",
    "        channels: (int): The number of channels.\n",
    "\n",
    "    Inputs:\n",
    "        - **x** (Tensor) - The output of the PReLU(close to the first conv layer) or the last residual blocks. The input\n",
    "          shape must be (batchsize, num_channels, height, width).\n",
    "\n",
    "    Outputs:\n",
    "        - **out** (Tensor) - The ResidualBlock output. The output has the shape (batchsize, num_channels, height,\n",
    "          width).\n",
    "\n",
    "    Supported Platforms:\n",
    "        ``Ascend`` ``GPU`` ``CPU``\n",
    "    \"\"\"\n",
    "    def __init__(self, channels):\n",
    "        super(ResidualBlock, self).__init__()\n",
    "        self.conv1 = nn.Conv2d(channels, channels, kernel_size=3, stride=1, padding=1, has_bias=True, pad_mode='pad')\n",
    "        self.bn1 = nn.BatchNorm2d(channels)\n",
    "        self.prelu = nn.PReLU(channels)\n",
    "        self.conv2 = nn.Conv2d(channels, channels, kernel_size=3, stride=1, padding=1, has_bias=True, pad_mode='pad')\n",
    "        self.bn2 = nn.BatchNorm2d(channels)\n",
    "\n",
    "    def construct(self, x):\n",
    "        out = self.conv1(x)\n",
    "        out = self.bn1(out)\n",
    "        out = self.prelu(out)\n",
    "        out = self.conv2(out)\n",
    "        out = self.bn2(out)\n",
    "        out = out + x\n",
    "        return out\n",
    "\n",
    "class SubpixelConvolutionLayer(nn.Cell):\n",
    "    \"\"\"\n",
    "    Structure of SubpixelConvolutionLayer.\n",
    "\n",
    "    Args:\n",
    "        channels: (int): The number of channels.\n",
    "\n",
    "    Inputs:\n",
    "        - **x** (Tensor) - The output of the element-wise-sum or sub-pixel convolution layer.\n",
    "          The input shape must be (batchsize, num_channels, height, width).\n",
    "\n",
    "    Outputs:\n",
    "        - **out** (Tensor) - The SubpixelConvolutionLayer output.\n",
    "          The output has the shape (batchsize, num_channels, height, width).\n",
    "\n",
    "    Supported Platforms:\n",
    "        ``Ascend`` ``GPU`` ``CPU``\n",
    "    \"\"\"\n",
    "    def __init__(self, channels):\n",
    "        super(SubpixelConvolutionLayer, self).__init__()\n",
    "        self.conv = nn.Conv2d(channels, channels*4, kernel_size=3, stride=1, padding=1, has_bias=True, pad_mode='pad')\n",
    "        self.pixel_shuffle = ops.DepthToSpace(2)\n",
    "        self.prelu = nn.PReLU(channels)\n",
    "\n",
    "    def construct(self, x):\n",
    "        out = self.conv(x)\n",
    "        out = self.pixel_shuffle(out)\n",
    "        out = self.prelu(out)\n",
    "        return out\n",
    "\n",
    "class Generator(nn.Cell):\n",
    "    \"\"\"\n",
    "    Structure of Generator.\n",
    "\n",
    "    Args:\n",
    "        upscale_factor (int): Upsampling factor of SRGAN.\n",
    "\n",
    "    Inputs:\n",
    "        - **x** (Tensor) - The image data.\n",
    "          The input shape must be (batchsize, num_channels, height, width).\n",
    "\n",
    "    Outputs:\n",
    "        - **out** (Tensor) - The generation result.\n",
    "          The output has the shape (batchsize, num_channels, height, width).\n",
    "\n",
    "    Supported Platforms:\n",
    "        ``Ascend`` ``GPU`` ``CPU``\n",
    "    \"\"\"\n",
    "    def __init__(self, upscale_factor):\n",
    "\n",
    "        super(Generator, self).__init__()\n",
    "        # Calculating the number of subpixel convolution layers.\n",
    "        num_subpixel_convolution_layers = int(math.log(upscale_factor, 2))\n",
    "        # First layer.\n",
    "        self.conv1 = nn.SequentialCell(\n",
    "            nn.Conv2d(3, 64, kernel_size=9, stride=1, padding=4, has_bias=True, pad_mode='pad'),\n",
    "            nn.PReLU(channel=64))\n",
    "\n",
    "        # 16 Residual blocks.\n",
    "        trunk = []\n",
    "        for _ in range(16):\n",
    "            trunk.append(ResidualBlock(64))\n",
    "        self.trunk = nn.SequentialCell(*trunk)\n",
    "\n",
    "        # Second conv layer post residual blocks.\n",
    "        self.conv2 = nn.SequentialCell(\n",
    "            nn.Conv2d(64, 64, kernel_size=3, stride=1, padding=1, has_bias=True, pad_mode='pad'),\n",
    "            nn.PReLU(channel=64)\n",
    "        )\n",
    "\n",
    "        # 2 Sub-pixel convolution layers.\n",
    "        subpixel_conv_layers = []\n",
    "        for _ in range(num_subpixel_convolution_layers):\n",
    "            subpixel_conv_layers.append(SubpixelConvolutionLayer(64))\n",
    "        self.subpixel_conv = nn.SequentialCell(*subpixel_conv_layers)\n",
    "\n",
    "        # Final output layer.\n",
    "        self.conv3 = nn.Conv2d(64, 3, kernel_size=9, stride=1, padding=4, has_bias=True, pad_mode='pad')\n",
    "        self.tanh = nn.Tanh()\n",
    "\n",
    "    def construct(self, x):\n",
    "        conv1 = self.conv1(x)\n",
    "        trunk = self.trunk(conv1)\n",
    "        conv2 = self.conv2(trunk)\n",
    "        out = conv1+conv2\n",
    "        out = self.subpixel_conv(out)\n",
    "        out = self.conv3(out)\n",
    "        out = self.tanh(out)\n",
    "        return out"
   ]
  },
  {
   "cell_type": "markdown",
   "metadata": {
    "pycharm": {
     "name": "#%% md\n"
    }
   },
   "source": [
    "### 判别器\n",
    "\n",
    "判别网络用于判断输入图像为生成网络生成的超分辨率图像，还是数据集中的原图像，其结构如下：\n",
    "\n",
    "![network](./images/discriminator.jpg)\n",
    "\n",
    "作者受到其他文献的启发，在判别网络中引入了LeakyReLU而没有引入Max-Pooling。"
   ]
  },
  {
   "cell_type": "code",
   "execution_count": 5,
   "metadata": {
    "pycharm": {
     "name": "#%%\n"
    }
   },
   "outputs": [],
   "source": [
    "class Discriminator(nn.Cell):\n",
    "    \"\"\"\n",
    "    Structure of Discriminator.\n",
    "\n",
    "    Args:\n",
    "        imgae_size (int): The size of training image.\n",
    "\n",
    "    Inputs:\n",
    "        - **x** (Tensor) - The image data. The input shape must be (batchsize, num_channels, height, width).\n",
    "\n",
    "    Outputs:\n",
    "        - **out** (Tensor) - The discrimination result. The output has the shape (batchsize, result).\n",
    "\n",
    "    Supported Platforms:\n",
    "        ``Ascend`` ``GPU`` ``CPU``\n",
    "    \"\"\"\n",
    "    def __init__(self, image_size):\n",
    "        super(Discriminator, self).__init__()\n",
    "        feature_map_size = int(image_size // 16)\n",
    "        self.features = _make_layer(conv2d_cfg)\n",
    "        self.flatten = nn.Flatten()\n",
    "        self.classifier = nn.SequentialCell(\n",
    "            nn.Dense(512 * feature_map_size * feature_map_size, 1024),\n",
    "            nn.LeakyReLU(0.2),\n",
    "            nn.Dense(1024, 1),\n",
    "            nn.Sigmoid()\n",
    "        )\n",
    "\n",
    "    def construct(self, x):\n",
    "        out = self.features(x)\n",
    "        out = self.flatten(out)\n",
    "        out = self.classifier(out)\n",
    "        return out\n",
    "\n",
    "def _make_layer(cfg):\n",
    "    \"\"\"\n",
    "    Make stage network of discriminator.\n",
    "\n",
    "    Args:\n",
    "        cfg (dict): The number of channels of each layer.\n",
    "\n",
    "    Returns:\n",
    "        nn.SequentialCell, Stage network of discriminator.\n",
    "    \"\"\"\n",
    "\n",
    "    layers = []\n",
    "    stride_add = 0\n",
    "\n",
    "    for chan_in, chan_out in zip(cfg[\"in\"], cfg[\"out\"]):\n",
    "        conv2d = nn.Conv2d(chan_in, chan_out, kernel_size=3, stride=1+stride_add, padding=1, pad_mode='pad')\n",
    "        layers += [conv2d, nn.LeakyReLU(0.2)]\n",
    "        stride_add = (stride_add + 1) % 2\n",
    "\n",
    "    return nn.SequentialCell(layers)"
   ]
  },
  {
   "cell_type": "markdown",
   "metadata": {
    "pycharm": {
     "name": "#%% md\n"
    }
   },
   "source": [
    "## 损失函数\n",
    "\n",
    "在SRGAN提出前，多数超分算法的优化目标是使超分图像与原始图像间的均方误差（MSE）最小化。均方误差最小化和峰值信噪比（PSNR）最大化是等价的，而后者又是评价超分算法的重要指标，因此基于MSE最小化得到的超分算法，往往可以生成PSNR很高的超分图像。但是，由于PSNR是从像素层面判断超分图像的质量，不能很好的反应人眼的观感，PSNR较高的图像可能反而局部纹理细节较差，因此需要设计新的损失函数。\n",
    "\n",
    "SRGAN抛弃了描述像素空间相似性的MSE损失函数，提出了感知损失函数（Perceptual Loss Function），其由内容损失（Content Loss）和对抗损失（Adversarial Loss）两部分组成。损失函数的一般形式如下。\n",
    "\n",
    "$$\n",
    "l^{SR} = l_X^{SR}+10^{-3}l_{Gen}^{SR}\n",
    "\\tag{1}\n",
    "$$\n",
    "\n",
    "其中$l_X^{SR}$为内容损失，$l_{Gen}^{SR}$为对抗损失。\n",
    "\n",
    "内容损失$l_X^{SR}$在原始论文中也叫做VGG损失，由预训练VGG19模型某层输出的特征图定义，其一般形式如下。\n",
    "\n",
    "$$\n",
    "l_{VGG/i.j}^{SR} = \\frac{1}{W_{i,j}H_{i,j}}\\sum_{x=1}^{W_{i,j}}\\sum_{y=1}^{H_{i,j}}(\\phi_{i,j}(I^{HR})_{x,y}-\\delta)^2\n",
    "\\tag{2}\n",
    "$$\n",
    "\n",
    "$$\n",
    "\\delta = \\phi_{i,j}(G_{\\theta_G}(I^{LR}))_{x,y}\n",
    "\\tag{3}\n",
    "$$\n",
    "\n",
    "其中，$I^{HR}$表示高分辨训练图像，$I^{LR}$为与之对应的低分辨率图像，$G_{\\theta_G}$表示网络参数为$\\theta_G$的生成网络。函数$\\phi_{i,j}$表示在VGG19网络中，第$i$个maxpooling层前的第$j$个卷积层（激活后）输出的特征图，其维度由$W_{i,j}$和$H_{i,j}$表示。\n",
    "\n",
    "上述预训练VGG19基于ImageNet中的100多万张真实图像训练得到，其高层（high-level）特征图可有效模拟人眼的观感，进而获取原图像与生成图像间的感知相似性（perceptual similarity）。\n",
    "\n",
    "引入对抗损失可以提高超分图像的真实感，其一般形式如下。\n",
    "\n",
    "$$\n",
    "l_{Gen}^{SR} = \\sum_{n=1}^N-logD_{\\theta_D}(G_{\\theta_G}(I^{LR}))\n",
    "\\tag{4}\n",
    "$$\n",
    "\n",
    "其中，$D_{\\theta_D}(G_{\\theta_G}(I^{LR}))$表示$G_{\\theta_G}(I^{LR})$被判别网络$D_{\\theta_D}$判定为真实高分辨率图像的概率。\n",
    "\n",
    "最后，我们给出图像间像素级的MSE（或PSNR）损失函数，其一般形式如下。\n",
    "\n",
    "$$\n",
    "l_{MSE}^{SR} = \\frac{1}{r^2WH}\\sum_{x=1}^{rW}\\sum_{y=1}^{rH}(I_{x,y}^{HR}-G_{\\theta_G}(I^{LR})_{x,y})^2\n",
    "\\tag{5}\n",
    "$$\n",
    "\n",
    "其中，$r$表示上采样倍数。"
   ]
  },
  {
   "cell_type": "code",
   "execution_count": 6,
   "metadata": {
    "pycharm": {
     "name": "#%%\n"
    }
   },
   "outputs": [],
   "source": [
    "class PSNRLoss(nn.Cell):\n",
    "    \"\"\"\n",
    "    Loss for SRResnet.\n",
    "\n",
    "    Args:\n",
    "        generator (nn.Cell): SRResnet.\n",
    "\n",
    "    Inputs:\n",
    "        - **hr_img** (Tensor) - The high-resolution image.\n",
    "          The input shape must be (batchsize, num_channels, height, width).\n",
    "        - **lr_img** (Tensor) - The low-resolution image.\n",
    "          The input shape must be (batchsize, num_channels, height, width).\n",
    "\n",
    "    Outputs:\n",
    "        - **psnr_loss** (Tensor) - The pixel-wise PSNR(MSE) loss.\n",
    "          The output has the shape (batchsize, loss_value).\n",
    "\n",
    "    Supported Platforms:\n",
    "        ``Ascend`` ``GPU`` ``CPU``\n",
    "    \"\"\"\n",
    "    def __init__(self, generator):\n",
    "        super(PSNRLoss, self).__init__()\n",
    "        self.generator = generator\n",
    "        self.pixel_criterion = nn.MSELoss()\n",
    "    def construct(self, hr_img, lr_img):\n",
    "        hr = hr_img\n",
    "        sr = self.generator(lr_img)\n",
    "        psnr_loss = self.pixel_criterion(hr, sr)\n",
    "        return psnr_loss"
   ]
  },
  {
   "cell_type": "markdown",
   "metadata": {},
   "source": [
    "### 生成网络的损失函数\n",
    "\n",
    "生成网络损失函数的一般形式如下。\n",
    "\n",
    "$$\n",
    "l_G = \\lambda_{mse}l_{MSE}^{SR} + \\lambda_{perc}l_{X}^{SR}+\\lambda_{gen}l_{Gen}^{SR}\n",
    "\\tag{5}\n",
    "$$\n",
    "\n",
    "其中，系数为相应损失的权重。"
   ]
  },
  {
   "cell_type": "code",
   "execution_count": 7,
   "metadata": {},
   "outputs": [],
   "source": [
    "import mindspore.common.dtype as mstype\n",
    "from src.vgg19.define import vgg19\n",
    "from src.loss.mean_shift import MeanShift\n",
    "\n",
    "class GeneratorLoss(nn.Cell):\n",
    "    \"\"\"\n",
    "    Loss for generator.\n",
    "\n",
    "    Args:\n",
    "        discriminator (nn.Cell): Discriminator network.\n",
    "        generator (nn.Cell): SRResnet.\n",
    "        vgg_ckpt (str): The path of vgg19 checkpoint file.\n",
    "\n",
    "    Inputs:\n",
    "        - **hr_img** (Tensor) - The high-resolution image.\n",
    "          The input shape must be (batchsize, num_channels, height, width).\n",
    "        - **lr_img** (Tensor) - The low-resolution image.\n",
    "          The input shape must be (batchsize, num_channels, height, width).\n",
    "\n",
    "    Outputs:\n",
    "        - **g_loss** (Tensor) -  Generator loss, compose of perception loss, adversarial loss and l2 loss.\n",
    "          The output has the shape (batchsize, loss_value).\n",
    "\n",
    "    Supported Platforms:\n",
    "        ``Ascend`` ``GPU`` ``CPU``\n",
    "    \"\"\"\n",
    "    def __init__(self, discriminator, generator, vgg):\n",
    "        super(GeneratorLoss, self).__init__()\n",
    "        self.discriminator = discriminator\n",
    "        self.generator = generator\n",
    "        self.mse_loss = nn.MSELoss()\n",
    "        self.adversarial_criterion = nn.BCELoss()\n",
    "        ones = ops.Ones()\n",
    "        self.real_lable = ones((16, 1), mstype.float32)\n",
    "        self.meanshif = MeanShift()\n",
    "        self.vgg = vgg\n",
    "        for p in self.meanshif.get_parameters():\n",
    "            p.requires_grad = False\n",
    "\n",
    "    def construct(self, hr_img, lr_img):\n",
    "        \"\"\"gloss\"\"\"\n",
    "        # L2loss\n",
    "        sr = self.generator(lr_img)\n",
    "        l2_loss = self.mse_loss(sr, hr_img)\n",
    "\n",
    "        # adversarialloss\n",
    "        fake_output = self.discriminator(sr)\n",
    "        adversarial_loss = self.adversarial_criterion(fake_output, self.real_lable)\n",
    "\n",
    "        # vggloss\n",
    "        hr_img = (hr_img+1.0)/2.0\n",
    "        sr = (sr+1.0)/2.0\n",
    "        hr_img = self.meanshif(hr_img)\n",
    "        sr = self.meanshif(sr)\n",
    "        hr_feat = self.vgg(hr_img)\n",
    "        sr_feat = self.vgg(sr)\n",
    "        percep_loss = self.mse_loss(hr_feat, sr_feat)\n",
    "\n",
    "        g_loss = 0.006 * percep_loss + 1e-3 * adversarial_loss + l2_loss\n",
    "        return  g_loss"
   ]
  },
  {
   "cell_type": "markdown",
   "metadata": {},
   "source": [
    "### 判别网络的损失函数\n",
    "\n",
    "判别网络的损失函数为二元交叉熵损失函数，其一般形式如下。\n",
    "\n",
    "$$\n",
    "l_D = -ylogD(x^{HR})-(1-y)log(1-D(x^{HR}))\n",
    "\\tag{6}\n",
    "$$"
   ]
  },
  {
   "cell_type": "code",
   "execution_count": 8,
   "metadata": {},
   "outputs": [],
   "source": [
    "class DiscriminatorLoss(nn.Cell):\n",
    "    \"\"\"\n",
    "    Loss for discriminator.\n",
    "\n",
    "    Args:\n",
    "        discriminator (nn.Cell): Discriminator network.\n",
    "        generator (nn.Cell): SRResnet.\n",
    "\n",
    "    Inputs:\n",
    "        - **hr_img** (Tensor) - The high-resolution image.\n",
    "          The input shape must be (batchsize, num_channels, height, width).\n",
    "        - **lr_img** (Tensor) - The low-resolution image.\n",
    "          The input shape must be (batchsize, num_channels, height, width).\n",
    "\n",
    "    Outputs:\n",
    "        - **d_loss** (Tensor) -  Binary cross-entropy loss.\n",
    "          The output has the shape (batchsize, loss_value).\n",
    "\n",
    "    Supported Platforms:\n",
    "        ``Ascend`` ``GPU`` ``CPU``\n",
    "    \"\"\"\n",
    "    def __init__(self, discriminator, generator):\n",
    "        super(DiscriminatorLoss, self).__init__()\n",
    "        self.discriminator = discriminator\n",
    "        self.generator = generator\n",
    "        self.adversarial_criterion = nn.BCELoss()\n",
    "        ones = ops.Ones()\n",
    "        zeros = ops.Zeros()\n",
    "        self.real_lable = ones((16, 1), mstype.float32)\n",
    "        self.fake_lable = zeros((16, 1), mstype.float32)\n",
    "\n",
    "    def construct(self, hr_img, lr_img):\n",
    "        \"\"\"dloss\"\"\"\n",
    "        # Generating fake high resolution images from real low resolution images.\n",
    "        sr = self.generator(lr_img)\n",
    "        # Let the discriminator realize that the sample is real.\n",
    "        real_output = self.discriminator(hr_img)\n",
    "        d_loss_real = self.adversarial_criterion(real_output, self.real_lable)\n",
    "        # Let the discriminator realize that the sample is false.\n",
    "        fake_output = self.discriminator(sr)\n",
    "        d_loss_fake = self.adversarial_criterion(fake_output, self.fake_lable)\n",
    "        d_loss = d_loss_fake+d_loss_real\n",
    "        return  d_loss"
   ]
  },
  {
   "cell_type": "markdown",
   "metadata": {
    "pycharm": {
     "name": "#%% md\n"
    }
   },
   "source": [
    "## 模型实现\n",
    "\n",
    "在之前的工作中，我们定义了数据集接口、网络结构和损失函数，并导入了数据集。下面我们进行模型训练、评估和推理。\n",
    "\n",
    "### 导入所需包\n"
   ]
  },
  {
   "cell_type": "code",
   "execution_count": 9,
   "metadata": {},
   "outputs": [],
   "source": [
    "import os\n",
    "import argparse\n",
    "import time\n",
    "\n",
    "import numpy as np\n",
    "from skimage.color import rgb2ycbcr\n",
    "from skimage.metrics import peak_signal_noise_ratio\n",
    "import mindspore.nn as nn\n",
    "from mindspore import load_checkpoint, save_checkpoint, load_param_into_net\n",
    "import mindspore.ops as ops\n",
    "from mindspore.common import set_seed\n",
    "\n",
    "from src.model.generator import get_generator\n",
    "from src.model.discriminator import get_discriminator\n",
    "from src.dataset.create_loader import create_train_dataloader, create_test_dataloader\n",
    "from src.loss.psnr_loss import PSNRLoss\n",
    "from src.loss.gan_loss import DiscriminatorLoss, GeneratorLoss\n",
    "from src.vgg19.define import vgg19\n",
    "from src.train.train_psnr import TrainOnestepPSNR\n",
    "from src.train.train_gan import TrainOneStepD, TrainOnestepG"
   ]
  },
  {
   "cell_type": "markdown",
   "metadata": {},
   "source": [
    "### 设置训练参数"
   ]
  },
  {
   "cell_type": "code",
   "execution_count": 10,
   "metadata": {},
   "outputs": [],
   "source": [
    "def parse_args():\n",
    "    \"\"\"Add argument\"\"\"\n",
    "    parser = argparse.ArgumentParser(description=\"SRGAN train\")\n",
    "    parser.add_argument(\"--train_LR_path\", default='./datasets/DIV2K/LR', type=str)\n",
    "    parser.add_argument(\"--train_GT_path\", default='./datasets/DIV2K/HR', type=str)\n",
    "    parser.add_argument(\"--val_LR_path\", default='./datasets/Set5/LR', type=str)\n",
    "    parser.add_argument(\"--val_GT_path\", default='./datasets/Set5/HR', type=str)\n",
    "    parser.add_argument(\"--vgg_ckpt\", default='./src/vgg19/vgg19.ckpt', type=str)\n",
    "    parser.add_argument('--upscale_factor', default=4, type=int, choices=[2, 4, 8],\n",
    "                        help='super resolution upscale factor')\n",
    "    parser.add_argument(\"--image_size\", type=int, default=96,\n",
    "                        help=\"Image size of high resolution image. (default: 96)\")\n",
    "    parser.add_argument(\"--train_batch_size\", default=16, type=int,\n",
    "                        metavar=\"N\", help=\"batch size for training\")\n",
    "    parser.add_argument(\"--val_batch_size\", default=1, type=int,\n",
    "                        metavar=\"N\", help=\"batch size for tesing\")\n",
    "    parser.add_argument(\"--psnr_epochs\", default=2, type=int, metavar=\"N\",\n",
    "                        help=\"Number of total psnr epochs to run. (default: 2000)\")\n",
    "    parser.add_argument(\"--start_psnr_epoch\", default=0, type=int, metavar='N',\n",
    "                        help=\"Manual psnr epoch number (useful on restarts). (default: 0)\")\n",
    "    parser.add_argument(\"--gan_epochs\", default=1, type=int, metavar=\"N\",\n",
    "                        help=\"Number of total gan epochs to run. (default: 1000)\")\n",
    "    parser.add_argument(\"--start_gan_epoch\", default=0, type=int, metavar='N',\n",
    "                        help=\"Manual gan epoch number (useful on restarts). (default: 0)\")\n",
    "    parser.add_argument('--init_type', type=str, default='normal', choices=(\"normal\", \"xavier\"), \\\n",
    "                        help='network initialization, default is normal.')\n",
    "    parser.add_argument(\"--scale\", type=int, default=4)\n",
    "    parser.add_argument('--platform', type=str, default='Ascend', choices=('Ascend', 'GPU', 'CPU'))\n",
    "    # distribute\n",
    "    parser.add_argument(\"--run_distribute\", type=int, default=0, help=\"Run distribute, default: 0.\")\n",
    "    parser.add_argument(\"--device_num\", type=int, default=1, help=\"number of device, default: 1.\")\n",
    "    return parser.parse_args(args=[])\n",
    "args = parse_args()"
   ]
  },
  {
   "cell_type": "markdown",
   "metadata": {},
   "source": [
    "### 生成器预训练\n",
    "\n",
    "首先，以像素间的均方误差最小化（即峰值信噪比最大化）为目标，对生成器网络进行预训练。\n",
    "\n",
    "原论文中进行了2000轮训练，此处仅训练了两轮。"
   ]
  },
  {
   "cell_type": "code",
   "execution_count": 11,
   "metadata": {},
   "outputs": [
    {
     "name": "stdout",
     "output_type": "stream",
     "text": [
      "Generator: training 1 epoch:\n",
      "per step needs time:2782ms\n",
      "mse_loss: 0.086579435\n",
      "psnr: 16.173250877141776\n",
      "1/2000 epoch finished\n",
      "Generator: training 2 epoch:\n",
      "per step needs time:19ms\n",
      "mse_loss: 0.058492776\n",
      "psnr: 17.784184582176902\n",
      "2/2000 epoch finished\n"
     ]
    }
   ],
   "source": [
    "set_seed(2022)\n",
    "# create dataset\n",
    "train_ds = create_train_dataloader(args.train_batch_size, args.train_LR_path, args.train_GT_path, 0,\n",
    "                                   args.device_num)\n",
    "test_ds = create_test_dataloader(args.val_batch_size, args.val_LR_path, args.val_GT_path)\n",
    "train_data_loader = train_ds.create_dict_iterator()\n",
    "test_data_loader = test_ds.create_dict_iterator()\n",
    "\n",
    "# definition of network\n",
    "generator = get_generator(4, 0.02)\n",
    "\n",
    "# network with loss\n",
    "psnr_loss = PSNRLoss(generator)\n",
    "\n",
    "# optimizer\n",
    "psnr_optimizer = nn.Adam(generator.trainable_params(), 1e-4)\n",
    "\n",
    "# operation for testing\n",
    "op = ops.ReduceSum(keep_dims=False)\n",
    "\n",
    "# trainonestep\n",
    "train_psnr = TrainOnestepPSNR(psnr_loss, psnr_optimizer)\n",
    "train_psnr.set_train()\n",
    "\n",
    "bestpsnr = 0\n",
    "if not os.path.exists(\"./ckpt\"):\n",
    "    os.makedirs(\"./ckpt\")\n",
    "\n",
    "# warm up generator\n",
    "for epoch in range(args.start_psnr_epoch, args.psnr_epochs):\n",
    "    print(\"Generator: training {:d} epoch:\".format(epoch + 1))\n",
    "    time_begin = time.time()\n",
    "    for data in train_data_loader:\n",
    "        lr = data['LR']\n",
    "        hr = data['HR']\n",
    "        mse_loss = train_psnr(hr, lr)\n",
    "    steps = train_ds.get_dataset_size()\n",
    "    time_elapsed = time.time() - time_begin\n",
    "    step_time = time_elapsed / steps\n",
    "    print('per step needs time:{:.0f}ms'.format(step_time * 1000))\n",
    "    print(\"mse_loss:\", mse_loss)\n",
    "    psnr_list = []\n",
    "\n",
    "    # val for every epoch\n",
    "    for test in test_data_loader:\n",
    "        lr = test['LR']\n",
    "        gt = test['HR']\n",
    "\n",
    "        _, _, h, w = lr.shape[:4]\n",
    "        gt = gt[:, :, : h * args.scale, : w * args.scale]\n",
    "\n",
    "        output = generator(lr)\n",
    "        output = op(output, 0)\n",
    "        output = output.asnumpy()\n",
    "        output = np.clip(output, -1.0, 1.0)\n",
    "        gt = op(gt, 0)\n",
    "\n",
    "        output = (output + 1.0) / 2.0\n",
    "        gt = (gt + 1.0) / 2.0\n",
    "\n",
    "        output = output.transpose(1, 2, 0)\n",
    "        gt = gt.asnumpy()\n",
    "        gt = gt.transpose(1, 2, 0)\n",
    "\n",
    "        y_output = rgb2ycbcr(output)[args.scale: -args.scale, args.scale: -args.scale, :1]\n",
    "        y_gt = rgb2ycbcr(gt)[args.scale: -args.scale, args.scale: -args.scale, :1]\n",
    "        psnr = peak_signal_noise_ratio(y_output/255.0, y_gt/255.0, data_range=1.0)\n",
    "        psnr_list.append(psnr)\n",
    "\n",
    "    mean = np.mean(psnr_list)\n",
    "    print(\"psnr:\", mean)\n",
    "    if mean > bestpsnr:\n",
    "        bestpsnr = mean\n",
    "        save_checkpoint(train_psnr, \"./ckpt/best.ckpt\")\n",
    "    if (epoch + 1) % 200 == 0:\n",
    "        save_checkpoint(train_psnr, './ckpt/pre_trained_model_%03d.ckpt' % (epoch + 1))\n",
    "\n",
    "    print(\"{:d}/2000 epoch finished\".format(epoch + 1))\n"
   ]
  },
  {
   "cell_type": "markdown",
   "metadata": {},
   "source": [
    "### 模型训练\n",
    "\n",
    "在预训练结束后，利用生成对抗的方式，继续训练生成器。\n",
    "\n",
    "原论文中进行了1000轮训练，此处仅训练了一轮。"
   ]
  },
  {
   "cell_type": "code",
   "execution_count": 12,
   "metadata": {},
   "outputs": [
    {
     "name": "stderr",
     "output_type": "stream",
     "text": [
      "[WARNING] ME(56338:281473340910144,MainProcess):2022-09-07-13:11:24.108.485 [mindspore/train/serialization.py:674] For 'load_param_into_net', remove parameter generator.conv1.0.weight's prefix name: generator., continue to load it to net parameter conv1.0.weight.\n"
     ]
    },
    {
     "name": "stdout",
     "output_type": "stream",
     "text": [
      "Gan: training 1 epoch\n",
      "per step needs time:3598ms\n",
      "D_loss: 1.3653828\n",
      "G_loss: 0.05751312\n",
      " 1/1000 epoch finished\n"
     ]
    }
   ],
   "source": [
    "# definition of network\n",
    "generator = get_generator(4, 0.02)\n",
    "discriminator = get_discriminator(96, 0.02)\n",
    "\n",
    "# pretrained model\n",
    "ckpt = \"./ckpt/best.ckpt\"\n",
    "params = load_checkpoint(ckpt)\n",
    "load_param_into_net(generator, params)\n",
    "vgg = vgg19(args.vgg_ckpt)\n",
    "\n",
    "# loss\n",
    "discriminator_loss = DiscriminatorLoss(discriminator, generator)\n",
    "generator_loss = GeneratorLoss(discriminator, generator, vgg)\n",
    "\n",
    "# optimizer\n",
    "generator_optimizer = nn.Adam(generator.trainable_params(), 1e-4)\n",
    "discriminator_optimizer = nn.Adam(discriminator.trainable_params(), 1e-4)\n",
    "\n",
    "# trainonestep\n",
    "train_discriminator = TrainOneStepD(discriminator_loss, discriminator_optimizer)\n",
    "train_generator = TrainOnestepG(generator_loss, generator_optimizer)\n",
    "\n",
    "# trainGAN\n",
    "for epoch in range(args.start_gan_epoch, args.gan_epochs):\n",
    "    print('Gan: training {:d} epoch'.format(epoch + 1))\n",
    "    train_begin = time.time()\n",
    "    for data in train_data_loader:\n",
    "        lr = data['LR']\n",
    "        hr = data['HR']\n",
    "        d_loss = train_discriminator(hr, lr)\n",
    "        g_loss = train_generator(hr, lr)\n",
    "    time_elapsed = time.time() - train_begin\n",
    "    steps = train_ds.get_dataset_size()\n",
    "    step_time = time_elapsed / steps\n",
    "    print('per step needs time:{:.0f}ms'.format(step_time * 1000))\n",
    "    print(\"D_loss:\", d_loss.mean())\n",
    "    print(\"G_loss:\", g_loss.mean())\n",
    "\n",
    "    if (epoch + 1) % 100 == 0:\n",
    "        save_checkpoint(train_generator, './ckpt/G_model_%03d.ckpt' % (epoch + 1))\n",
    "        save_checkpoint(train_discriminator, './ckpt/D_model_%03d.ckpt' % (epoch + 1))\n",
    "    print(\" {:d}/1000 epoch finished\".format(epoch + 1))"
   ]
  },
  {
   "cell_type": "markdown",
   "metadata": {
    "pycharm": {
     "name": "#%% md\n"
    }
   },
   "source": [
    "### 模型评估\n",
    "\n",
    "在Set5数据集上以峰值信噪比为指标进行评估。峰值信噪比（PSNR, Peak Signal to Noise Ratio）描述两个图像在每一个位置上的像素值的差异的平均值，是图像超分的常用评价指标。"
   ]
  },
  {
   "cell_type": "code",
   "execution_count": 13,
   "metadata": {
    "pycharm": {
     "name": "#%%\n"
    }
   },
   "outputs": [],
   "source": [
    "def parse_args():\n",
    "    \"\"\"Add argument\"\"\"\n",
    "    parser = argparse.ArgumentParser(description=\"SRGAN eval\")\n",
    "    parser.add_argument(\"--test_LR_path\", default='./datasets/Set5/LR', type=str)\n",
    "    parser.add_argument(\"--test_GT_path\", default='./datasets/Set5/HR', type=str)\n",
    "    parser.add_argument(\"--res_num\", type=int, default=16)\n",
    "    parser.add_argument(\"--scale\", type=int, default=4)\n",
    "    parser.add_argument(\"--generator_path\", default='./ckpt/G_model_1000.ckpt', type=str)\n",
    "    parser.add_argument(\"--device_id\", type=int, default=0, help=\"device id, default: 0.\")\n",
    "    parser.add_argument('--platform', type=str, default='Ascend', choices=('Ascend', 'GPU', 'CPU'))\n",
    "    return parser.parse_args(args=[])\n",
    "args = parse_args()"
   ]
  },
  {
   "cell_type": "code",
   "execution_count": 14,
   "metadata": {},
   "outputs": [
    {
     "name": "stderr",
     "output_type": "stream",
     "text": [
      "[WARNING] ME(56338:281473340910144,MainProcess):2022-09-07-13:12:30.981.999 [mindspore/train/serialization.py:674] For 'load_param_into_net', remove parameter generator.conv1.0.weight's prefix name: generator., continue to load it to net parameter conv1.0.weight.\n"
     ]
    },
    {
     "name": "stdout",
     "output_type": "stream",
     "text": [
      "======load checkpoint\n",
      "=======starting test=====\n",
      "avg PSNR: 30.997722005197154\n"
     ]
    }
   ],
   "source": [
    "# 测试集接口\n",
    "test_ds = create_test_dataloader(1, args.test_LR_path, args.test_GT_path)\n",
    "test_data_loader = test_ds.create_dict_iterator()\n",
    "\n",
    "# 构建生成器网络\n",
    "generator = Generator(4)\n",
    "params = load_checkpoint(args.generator_path)\n",
    "print(\"======load checkpoint\")\n",
    "load_param_into_net(generator, params)\n",
    "\n",
    "# 模型评估\n",
    "op = ops.ReduceSum(keep_dims=False)\n",
    "psnr_list = []\n",
    "print(\"=======starting test=====\")\n",
    "for data in test_data_loader:\n",
    "    lr = data['LR']\n",
    "    gt = data['HR']\n",
    "    _, _, h, w = lr.shape[:4]\n",
    "    gt = gt[:, :, : h * args.scale, : w *args.scale]\n",
    "\n",
    "    output = generator(lr)\n",
    "    output = op(output, 0)\n",
    "    output = output.asnumpy()\n",
    "    output = np.clip(output, -1.0, 1.0)\n",
    "    gt = op(gt, 0)\n",
    "\n",
    "    output = (output + 1.0) / 2.0\n",
    "    gt = (gt + 1.0) / 2.0\n",
    "\n",
    "    output = output.transpose(1, 2, 0)\n",
    "    gt = gt.asnumpy()\n",
    "    gt = gt.transpose(1, 2, 0)\n",
    "    y_output = rgb2ycbcr(output)[args.scale:-args.scale, args.scale:-args.scale, :1]\n",
    "    y_gt = rgb2ycbcr(gt)[args.scale:-args.scale, args.scale:-args.scale, :1]\n",
    "\n",
    "    psnr = peak_signal_noise_ratio(y_output / 255.0, y_gt / 255.0, data_range=1.0)\n",
    "    psnr_list.append(psnr)\n",
    "print(\"avg PSNR:\", np.mean(psnr_list))"
   ]
  },
  {
   "cell_type": "markdown",
   "metadata": {
    "pycharm": {
     "name": "#%% md\n"
    }
   },
   "source": [
    "### 模型推理\n",
    "\n",
    "在Set14数据集上进行推理。"
   ]
  },
  {
   "cell_type": "code",
   "execution_count": 15,
   "metadata": {},
   "outputs": [],
   "source": [
    "def parse_args():\n",
    "    \"\"\"Add argument\"\"\"\n",
    "    parser = argparse.ArgumentParser(description=\"SRGAN infer\")\n",
    "    parser.add_argument(\"--test_LR_path\", default='./datasets/Set14/LR', type=str)\n",
    "    parser.add_argument(\"--scale\", type=int, default=4)\n",
    "    parser.add_argument(\"--generator_path\", default='./ckpt/G_model_1000.ckpt', type=str)\n",
    "    parser.add_argument(\"--device_id\", type=int, default=0, help=\"device id, default: 0.\")\n",
    "    parser.add_argument('--platform', type=str, default='Ascend', choices=('Ascend', 'GPU', 'CPU'))\n",
    "    return parser.parse_args(args=[])\n",
    "args = parse_args()"
   ]
  },
  {
   "cell_type": "code",
   "execution_count": 16,
   "metadata": {
    "pycharm": {
     "name": "#%%\n"
    }
   },
   "outputs": [
    {
     "name": "stderr",
     "output_type": "stream",
     "text": [
      "[WARNING] ME(56338:281473340910144,MainProcess):2022-09-07-13:13:23.399.452 [mindspore/train/serialization.py:674] For 'load_param_into_net', remove parameter generator.conv1.0.weight's prefix name: generator., continue to load it to net parameter conv1.0.weight.\n"
     ]
    },
    {
     "name": "stdout",
     "output_type": "stream",
     "text": [
      "======load checkpoint\n",
      "=======starting test=====\n",
      "Total 14 images need 103873ms, per image needs 7420ms.\n",
      "Inference End.\n"
     ]
    }
   ],
   "source": [
    "# 测试集接口\n",
    "test_ds = create_test_dataloader(1, args.test_LR_path, inference=True)\n",
    "data_size = test_ds.get_dataset_size()\n",
    "test_data_loader = test_ds.create_dict_iterator()\n",
    "\n",
    "# 构建生成器网络\n",
    "generator = Generator(args.scale)\n",
    "params = load_checkpoint(args.generator_path)\n",
    "print(\"======load checkpoint\")\n",
    "load_param_into_net(generator, params)\n",
    "\n",
    "# 推理\n",
    "op = ops.ReduceSum(keep_dims=False)\n",
    "print(\"=======starting test=====\")\n",
    "time_total = 0\n",
    "i = 0\n",
    "for data in test_data_loader:\n",
    "    time_begin = time.time()\n",
    "    lr = data['LR']\n",
    "    output = generator(lr)\n",
    "    time_total += time.time() - time_begin\n",
    "    output = op(output, 0).asnumpy()\n",
    "    output = np.clip(output, -1.0, 1.0)\n",
    "    output = ((output + 1.0) / 2.0).transpose(1, 2, 0)\n",
    "    result = Image.fromarray((output * 255.0).astype(np.uint8))\n",
    "    # save the output image\n",
    "    result.save(f\"./output/{i}.jpg\")\n",
    "    i += 1\n",
    "print(\"Total %d images need %.0fms, per image needs %.0fms.\" % (data_size, time_total * 1000, (time_total / data_size) * 1000))\n",
    "print(\"Inference End.\")"
   ]
  },
  {
   "cell_type": "markdown",
   "metadata": {
    "pycharm": {
     "name": "#%% md\n"
    }
   },
   "source": [
    "## 总结\n",
    "\n",
    "本案例对SRGAN模型进行了详细的解释，向读者完整地展现了该算法的流程。"
   ]
  },
  {
   "cell_type": "markdown",
   "metadata": {
    "pycharm": {
     "name": "#%% md\n"
    }
   },
   "source": [
    "## 引用\n",
    "\n",
    "[1] Ledig C, et al. Photo-realistic single image super-resolution using a generative adversarial network[C]//Proceedings of the IEEE conference on computer vision and pattern recognition. 2017: 4681-4690."
   ]
  }
 ],
 "metadata": {
  "kernelspec": {
   "display_name": "Python 3.9.12 ('mindspore')",
   "language": "python",
   "name": "python3"
  },
  "language_info": {
   "codemirror_mode": {
    "name": "ipython",
    "version": 3
   },
   "file_extension": ".py",
   "mimetype": "text/x-python",
   "name": "python",
   "nbconvert_exporter": "python",
   "pygments_lexer": "ipython3",
   "version": "3.9.12"
  },
  "vscode": {
   "interpreter": {
    "hash": "7a2da481ec7f16611024e54b6c2c65ba7bc7dfca200b860b08c901e67c664734"
   }
  }
 },
 "nbformat": 4,
 "nbformat_minor": 4
}
